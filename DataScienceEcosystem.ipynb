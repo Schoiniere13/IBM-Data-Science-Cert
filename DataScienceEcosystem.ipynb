{
 "cells": [
  {
   "cell_type": "markdown",
   "id": "7b3e4507-9779-482a-94da-a25c48e6bff1",
   "metadata": {},
   "source": [
    "# Data Science Tools and Ecosystem"
   ]
  },
  {
   "cell_type": "markdown",
   "id": "8ae53d9e-d780-4fca-9bab-bc359e228edb",
   "metadata": {},
   "source": [
    "## Author\n",
    "Sam C."
   ]
  },
  {
   "cell_type": "markdown",
   "id": "7932e221-a60c-4154-9bc6-fe5ce5c197e0",
   "metadata": {},
   "source": [
    "In this notebook, Data Science Tools and ecosystems are summarized."
   ]
  },
  {
   "cell_type": "markdown",
   "id": "8497f5f9-df6a-4a96-be3e-e2a93fb73681",
   "metadata": {},
   "source": [
    "__Objectives:__\n",
    "* List popular data science langauages\n",
    "* List open souce tools used by data scientists for development\n",
    "* Practice arithmetic in python\n",
    "* Demonstrate knowledge of markdown formatting, including tables and lists\n",
    "* List common libraries used by data scientists"
   ]
  },
  {
   "cell_type": "markdown",
   "id": "41bad4c5-262f-4ccc-b48f-6c86faa61fe4",
   "metadata": {},
   "source": [
    "Some of the popular languages that data scientists use are :\n",
    "1. R\n",
    "2. Python\n",
    "3. C++\n",
    "4. Java\n",
    "5. Scala\n",
    "6. Ruby"
   ]
  },
  {
   "cell_type": "markdown",
   "id": "c4200922-9f07-4055-a83f-ee930419e3af",
   "metadata": {},
   "source": [
    "Some of the commonly used libraries used by data scientists include:\n",
    "1. matplotlib\n",
    "2. ggplot\n",
    "3. TensorFlow\n",
    "4. Keras\n",
    "5. Numpy"
   ]
  },
  {
   "cell_type": "markdown",
   "id": "aff6e21c-7844-4588-b843-bd3200e45509",
   "metadata": {},
   "source": [
    "Table of Data Science open source developmental tools:\n",
    "|Data Science Tools|\n",
    "|-----|\n",
    "|Jupyter Notebooks|\n",
    "|RStudio|\n",
    "|JupyterLite|\n",
    "|Spyder|\n",
    "|Visual Studio Code|"
   ]
  },
  {
   "cell_type": "markdown",
   "id": "052ac6dc-3040-4940-851d-1b9131c7bc41",
   "metadata": {},
   "source": [
    "### Below are a few examples of evaluationg arithmetic expressions using Python:"
   ]
  },
  {
   "cell_type": "code",
   "execution_count": 2,
   "id": "277f4efa-e066-41ce-89f2-f494cf2c24a0",
   "metadata": {},
   "outputs": [
    {
     "data": {
      "text/plain": [
       "17"
      ]
     },
     "execution_count": 2,
     "metadata": {},
     "output_type": "execute_result"
    }
   ],
   "source": [
    "# This is a simple arithmetic expression to multiply and then add integers\n",
    "(3*4)+5"
   ]
  },
  {
   "cell_type": "code",
   "execution_count": 3,
   "id": "c6c96650-e399-40f2-a11a-5fcf41ec0546",
   "metadata": {},
   "outputs": [
    {
     "data": {
      "text/plain": [
       "3.3333333333333335"
      ]
     },
     "execution_count": 3,
     "metadata": {},
     "output_type": "execute_result"
    }
   ],
   "source": [
    "# Converts 200 minutes into Hours by didving by 60\n",
    "200/60"
   ]
  },
  {
   "cell_type": "code",
   "execution_count": null,
   "id": "11f24331-c261-4cc9-b608-bb7daffb46cb",
   "metadata": {},
   "outputs": [],
   "source": []
  }
 ],
 "metadata": {
  "kernelspec": {
   "display_name": "Python 3 (ipykernel)",
   "language": "python",
   "name": "python3"
  },
  "language_info": {
   "codemirror_mode": {
    "name": "ipython",
    "version": 3
   },
   "file_extension": ".py",
   "mimetype": "text/x-python",
   "name": "python",
   "nbconvert_exporter": "python",
   "pygments_lexer": "ipython3",
   "version": "3.12.8"
  }
 },
 "nbformat": 4,
 "nbformat_minor": 5
}
